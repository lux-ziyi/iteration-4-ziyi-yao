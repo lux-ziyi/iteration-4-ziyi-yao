{
 "cells": [
  {
   "cell_type": "code",
   "execution_count": 1,
   "metadata": {},
   "outputs": [],
   "source": [
    "import findspark\n",
    "findspark.init('/home/ubuntu/spark-2.1.1-bin-hadoop2.7')\n",
    "import pyspark\n",
    "from pyspark.sql import SparkSession\n",
    "spark = SparkSession.builder.appName('basics').getOrCreate()"
   ]
  },
  {
   "cell_type": "code",
   "execution_count": 2,
   "metadata": {},
   "outputs": [],
   "source": [
    "df = spark.read.csv('./master.csv', header=True, inferSchema=True)"
   ]
  },
  {
   "cell_type": "code",
   "execution_count": 3,
   "metadata": {},
   "outputs": [
    {
     "name": "stdout",
     "output_type": "stream",
     "text": [
      "(27820, 12)\n"
     ]
    }
   ],
   "source": [
    "print((df.count(), len(df.columns)))"
   ]
  },
  {
   "cell_type": "code",
   "execution_count": 4,
   "metadata": {},
   "outputs": [
    {
     "data": {
      "text/plain": [
       "['country',\n",
       " 'year',\n",
       " 'sex',\n",
       " 'age',\n",
       " 'suicides_no',\n",
       " 'population',\n",
       " 'suicides/100k pop',\n",
       " 'country-year',\n",
       " 'HDI for year',\n",
       " ' gdp_for_year ($) ',\n",
       " 'gdp_per_capita ($)',\n",
       " 'generation']"
      ]
     },
     "execution_count": 4,
     "metadata": {},
     "output_type": "execute_result"
    }
   ],
   "source": [
    "\n",
    "df.columns"
   ]
  },
  {
   "cell_type": "code",
   "execution_count": 5,
   "metadata": {},
   "outputs": [
    {
     "name": "stdout",
     "output_type": "stream",
     "text": [
      "+-------+----+------+-----------+-----------+----------+-----------------+------------+------------+------------------+------------------+---------------+\n",
      "|country|year|   sex|        age|suicides_no|population|suicides/100k pop|country-year|HDI for year| gdp_for_year ($) |gdp_per_capita ($)|     generation|\n",
      "+-------+----+------+-----------+-----------+----------+-----------------+------------+------------+------------------+------------------+---------------+\n",
      "|Albania|1987|  male|15-24 years|         21|    312900|             6.71| Albania1987|        null|     2,156,624,900|               796|   Generation X|\n",
      "|Albania|1987|  male|35-54 years|         16|    308000|             5.19| Albania1987|        null|     2,156,624,900|               796|         Silent|\n",
      "|Albania|1987|female|15-24 years|         14|    289700|             4.83| Albania1987|        null|     2,156,624,900|               796|   Generation X|\n",
      "|Albania|1987|  male|  75+ years|          1|     21800|             4.59| Albania1987|        null|     2,156,624,900|               796|G.I. Generation|\n",
      "|Albania|1987|  male|25-34 years|          9|    274300|             3.28| Albania1987|        null|     2,156,624,900|               796|        Boomers|\n",
      "|Albania|1987|female|  75+ years|          1|     35600|             2.81| Albania1987|        null|     2,156,624,900|               796|G.I. Generation|\n",
      "|Albania|1987|female|35-54 years|          6|    278800|             2.15| Albania1987|        null|     2,156,624,900|               796|         Silent|\n",
      "|Albania|1987|female|25-34 years|          4|    257200|             1.56| Albania1987|        null|     2,156,624,900|               796|        Boomers|\n",
      "|Albania|1987|  male|55-74 years|          1|    137500|             0.73| Albania1987|        null|     2,156,624,900|               796|G.I. Generation|\n",
      "|Albania|1987|female| 5-14 years|          0|    311000|              0.0| Albania1987|        null|     2,156,624,900|               796|   Generation X|\n",
      "|Albania|1987|female|55-74 years|          0|    144600|              0.0| Albania1987|        null|     2,156,624,900|               796|G.I. Generation|\n",
      "|Albania|1987|  male| 5-14 years|          0|    338200|              0.0| Albania1987|        null|     2,156,624,900|               796|   Generation X|\n",
      "|Albania|1988|female|  75+ years|          2|     36400|             5.49| Albania1988|        null|     2,126,000,000|               769|G.I. Generation|\n",
      "|Albania|1988|  male|15-24 years|         17|    319200|             5.33| Albania1988|        null|     2,126,000,000|               769|   Generation X|\n",
      "|Albania|1988|  male|  75+ years|          1|     22300|             4.48| Albania1988|        null|     2,126,000,000|               769|G.I. Generation|\n",
      "|Albania|1988|  male|35-54 years|         14|    314100|             4.46| Albania1988|        null|     2,126,000,000|               769|         Silent|\n",
      "|Albania|1988|  male|55-74 years|          4|    140200|             2.85| Albania1988|        null|     2,126,000,000|               769|G.I. Generation|\n",
      "|Albania|1988|female|15-24 years|          8|    295600|             2.71| Albania1988|        null|     2,126,000,000|               769|   Generation X|\n",
      "|Albania|1988|female|55-74 years|          3|    147500|             2.03| Albania1988|        null|     2,126,000,000|               769|G.I. Generation|\n",
      "|Albania|1988|female|25-34 years|          5|    262400|             1.91| Albania1988|        null|     2,126,000,000|               769|        Boomers|\n",
      "+-------+----+------+-----------+-----------+----------+-----------------+------------+------------+------------------+------------------+---------------+\n",
      "only showing top 20 rows\n",
      "\n"
     ]
    }
   ],
   "source": [
    "df.show()"
   ]
  },
  {
   "cell_type": "code",
   "execution_count": 6,
   "metadata": {},
   "outputs": [
    {
     "name": "stdout",
     "output_type": "stream",
     "text": [
      "+-------+----------+------------------+------+-----------+------------------+------------------+------------------+--------------+-------------------+------------------+------------------+----------+\n",
      "|summary|   country|              year|   sex|        age|       suicides_no|        population| suicides/100k pop|  country-year|       HDI for year| gdp_for_year ($) |gdp_per_capita ($)|generation|\n",
      "+-------+----------+------------------+------+-----------+------------------+------------------+------------------+--------------+-------------------+------------------+------------------+----------+\n",
      "|  count|     27820|             27820| 27820|      27820|             27820|             27820|             27820|         27820|               8364|             27820|             27820|     27820|\n",
      "|   mean|      null|2001.2583752695903|  null|       null|242.57440690150972|1844793.6173975556|12.816097411933894|          null| 0.7766011477761785|              null|16866.464414090584|      null|\n",
      "| stddev|      null| 8.469055024441408|  null|       null| 902.0479168336403|3911779.4417563565| 18.96151101450326|          null|0.09336670859029984|              null|18887.576472205576|      null|\n",
      "|    min|   Albania|              1985|female|15-24 years|                 0|               278|               0.0|   Albania1987|              0.483| 1,002,219,052,968|               251|   Boomers|\n",
      "|    max|Uzbekistan|              2016|  male|  75+ years|             22338|          43805214|            224.97|Uzbekistan2014|              0.944|       997,007,926|            126352|    Silent|\n",
      "+-------+----------+------------------+------+-----------+------------------+------------------+------------------+--------------+-------------------+------------------+------------------+----------+\n",
      "\n"
     ]
    }
   ],
   "source": [
    "\n",
    "df.describe().show()"
   ]
  },
  {
   "cell_type": "code",
   "execution_count": 7,
   "metadata": {},
   "outputs": [
    {
     "name": "stdout",
     "output_type": "stream",
     "text": [
      "root\n",
      " |-- country: string (nullable = true)\n",
      " |-- year: integer (nullable = true)\n",
      " |-- sex: string (nullable = true)\n",
      " |-- age: string (nullable = true)\n",
      " |-- suicides_no: integer (nullable = true)\n",
      " |-- population: integer (nullable = true)\n",
      " |-- suicides/100k pop: double (nullable = true)\n",
      " |-- country-year: string (nullable = true)\n",
      " |-- HDI for year: double (nullable = true)\n",
      " |--  gdp_for_year ($) : string (nullable = true)\n",
      " |-- gdp_per_capita ($): integer (nullable = true)\n",
      " |-- generation: string (nullable = true)\n",
      "\n"
     ]
    }
   ],
   "source": [
    "\n",
    "df.printSchema()\n",
    "\n"
   ]
  },
  {
   "cell_type": "code",
   "execution_count": 8,
   "metadata": {},
   "outputs": [
    {
     "name": "stdout",
     "output_type": "stream",
     "text": [
      "Defaulting to user installation because normal site-packages is not writeable\n",
      "Requirement already satisfied: seaborn in ./.local/lib/python3.5/site-packages (0.9.1)\n",
      "Requirement already satisfied: numpy>=1.10.4 in ./.local/lib/python3.5/site-packages (from seaborn) (1.15.1)\n",
      "Requirement already satisfied: scipy>=0.17.1 in ./.local/lib/python3.5/site-packages (from seaborn) (1.4.1)\n",
      "Requirement already satisfied: matplotlib>=1.5.3 in ./.local/lib/python3.5/site-packages (from seaborn) (2.2.2)\n",
      "Requirement already satisfied: pandas>=0.17.1 in ./.local/lib/python3.5/site-packages (from seaborn) (0.23.4)\n",
      "Requirement already satisfied: six>=1.10 in ./.local/lib/python3.5/site-packages (from matplotlib>=1.5.3->seaborn) (1.11.0)\n",
      "Requirement already satisfied: cycler>=0.10 in ./.local/lib/python3.5/site-packages (from matplotlib>=1.5.3->seaborn) (0.10.0)\n",
      "Requirement already satisfied: kiwisolver>=1.0.1 in ./.local/lib/python3.5/site-packages (from matplotlib>=1.5.3->seaborn) (1.0.1)\n",
      "Requirement already satisfied: pytz in ./.local/lib/python3.5/site-packages (from matplotlib>=1.5.3->seaborn) (2018.5)\n",
      "Requirement already satisfied: python-dateutil>=2.1 in ./.local/lib/python3.5/site-packages (from matplotlib>=1.5.3->seaborn) (2.7.3)\n",
      "Requirement already satisfied: pyparsing!=2.0.4,!=2.1.2,!=2.1.6,>=2.0.1 in ./.local/lib/python3.5/site-packages (from matplotlib>=1.5.3->seaborn) (2.2.0)\n",
      "Requirement already satisfied: setuptools in ./.local/lib/python3.5/site-packages (from kiwisolver>=1.0.1->matplotlib>=1.5.3->seaborn) (39.2.0)\n"
     ]
    }
   ],
   "source": [
    "!pip3 install seaborn\n",
    "import seaborn as sns\n",
    "import matplotlib.pyplot as plt\n",
    "\n",
    "pandas_df = df.toPandas()\n",
    "\n",
    "\n",
    "\n",
    "\n"
   ]
  },
  {
   "cell_type": "code",
   "execution_count": 9,
   "metadata": {},
   "outputs": [
    {
     "data": {
      "image/png": "[encoded data removed]",
      "text/plain": [
       "<Figure size 864x1152 with 1 Axes>"
      ]
     },
     "metadata": {},
     "output_type": "display_data"
    }
   ],
   "source": [
    "plt.figure(figsize=(12, 16))\n",
    "\n",
    "\n",
    "plt.subplot(311)\n",
    "sns.lineplot(x='year', y='suicides/100k pop', hue='sex', data=pandas_df, palette=\"hot\")  \n",
    "plt.xticks(ha='right', fontsize=20)\n",
    "plt.ylabel('suicides/100k pop', fontsize=20)\n",
    "plt.xlabel('year', fontsize=20)\n",
    "plt.legend(fontsize=14, loc='best')  \n",
    "plt.title(\"Relationship between sex year and suicide rate\")\n",
    "plt.show()"
   ]
  },
  {
   "cell_type": "code",
   "execution_count": 10,
   "metadata": {
    "scrolled": true
   },
   "outputs": [
    {
     "data": {
      "image/png": "[encoded data removed]",
      "text/plain": [
       "<Figure size 432x288 with 1 Axes>"
      ]
     },
     "metadata": {},
     "output_type": "display_data"
    }
   ],
   "source": [
    "sns.set_color_codes('muted')\n",
    "sns.barplot(x='age',y='suicides/100k pop',data=pandas_df)\n",
    "plt.xticks(rotation=90)\n",
    "plt.show()"
   ]
  },
  {
   "cell_type": "code",
   "execution_count": 11,
   "metadata": {},
   "outputs": [
    {
     "name": "stdout",
     "output_type": "stream",
     "text": [
      "+-------+----+---+---+-----------+----------+-----------------+------------+------------+------------------+------------------+----------+\n",
      "|country|year|sex|age|suicides_no|population|suicides/100k pop|country-year|HDI for year| gdp_for_year ($) |gdp_per_capita ($)|generation|\n",
      "+-------+----+---+---+-----------+----------+-----------------+------------+------------+------------------+------------------+----------+\n",
      "|      0|   0|  0|  0|          0|         0|                0|           0|       19456|                 0|                 0|         0|\n",
      "+-------+----+---+---+-----------+----------+-----------------+------------+------------+------------------+------------------+----------+\n",
      "\n"
     ]
    }
   ],
   "source": [
    "from pyspark.sql.functions import isnull, when, count, col\n",
    "\n",
    "df.select([count(when(isnull(c), c)).alias(c) for c in df.columns]).show()"
   ]
  },
  {
   "cell_type": "code",
   "execution_count": 12,
   "metadata": {
    "scrolled": true
   },
   "outputs": [
    {
     "name": "stdout",
     "output_type": "stream",
     "text": [
      "root\n",
      " |-- country: string (nullable = true)\n",
      " |-- year: integer (nullable = true)\n",
      " |-- sex: string (nullable = true)\n",
      " |-- age: string (nullable = true)\n",
      " |-- suicides_no: integer (nullable = true)\n",
      " |-- population: integer (nullable = true)\n",
      " |-- suicides/100k pop: double (nullable = true)\n",
      " |-- country-year: string (nullable = true)\n",
      " |-- HDI for year: double (nullable = true)\n",
      " |--  gdp_for_year ($) : float (nullable = true)\n",
      " |-- gdp_per_capita ($): integer (nullable = true)\n",
      " |-- generation: string (nullable = true)\n",
      "\n"
     ]
    }
   ],
   "source": [
    "from pyspark.sql.functions import *\n",
    "\n",
    "df = df.withColumn(' gdp_for_year ($) ', regexp_replace(' gdp_for_year ($) ', ',', '').cast('float'))\n",
    "df.printSchema()"
   ]
  },
  {
   "cell_type": "code",
   "execution_count": 13,
   "metadata": {},
   "outputs": [
    {
     "data": {
      "text/plain": [
       "['country',\n",
       " 'year',\n",
       " 'sex',\n",
       " 'age',\n",
       " 'population',\n",
       " 'suicides/100k pop',\n",
       " 'HDI for year',\n",
       " ' gdp_for_year ($) ',\n",
       " 'gdp_per_capita ($)',\n",
       " 'generation']"
      ]
     },
     "execution_count": 13,
     "metadata": {},
     "output_type": "execute_result"
    }
   ],
   "source": [
    "columns_to_drop = ['country-year', 'suicides_no']\n",
    "df = df.drop(*columns_to_drop)\n",
    "df.columns"
   ]
  },
  {
   "cell_type": "code",
   "execution_count": 14,
   "metadata": {},
   "outputs": [
    {
     "data": {
      "text/plain": [
       "['country',\n",
       " 'year',\n",
       " 'sex',\n",
       " 'age',\n",
       " 'population',\n",
       " 'suicides/100k pop',\n",
       " 'HDI for year',\n",
       " ' gdp_for_year ($) ',\n",
       " 'gdp_per_capita ($)',\n",
       " 'generation',\n",
       " 'population of country']"
      ]
     },
     "execution_count": 14,
     "metadata": {},
     "output_type": "execute_result"
    }
   ],
   "source": [
    "\n",
    "\n",
    "df=df.withColumn('population of country', df[' gdp_for_year ($) ']/df['gdp_per_capita ($)']) \n",
    "df.columns\n",
    "\n"
   ]
  },
  {
   "cell_type": "code",
   "execution_count": 15,
   "metadata": {},
   "outputs": [],
   "source": [
    "\n",
    "\n",
    "\n",
    "from pyspark.sql.functions import mean\n",
    "\n",
    "\n",
    "mean_HDI = df.select(mean(df['HDI for year'])).collect()\n",
    "\n",
    "mean_HDI\n",
    "\n",
    "\n",
    "mean_HDI[0]\n",
    "\n",
    "\n",
    "\n",
    "mean_HDI[0][0]\n",
    "mean_HDI_val = mean_HDI[0][0]\n",
    "\n",
    "df=df.na.fill(mean_HDI_val,subset=['HDI for year'])\n",
    "\n",
    "\n"
   ]
  },
  {
   "cell_type": "code",
   "execution_count": 16,
   "metadata": {},
   "outputs": [],
   "source": [
    "dataset= df.toPandas()"
   ]
  },
  {
   "cell_type": "code",
   "execution_count": 17,
   "metadata": {},
   "outputs": [
    {
     "name": "stdout",
     "output_type": "stream",
     "text": [
      "0          0\n",
      "1          0\n",
      "2          0\n",
      "3          0\n",
      "4          0\n",
      "5          0\n",
      "6          0\n",
      "7          0\n",
      "8          0\n",
      "9          0\n",
      "10         0\n",
      "11         0\n",
      "12         0\n",
      "13         0\n",
      "14         0\n",
      "15         0\n",
      "16         0\n",
      "17         0\n",
      "18         0\n",
      "19         0\n",
      "20         0\n",
      "21         0\n",
      "22         0\n",
      "23         0\n",
      "24         0\n",
      "25         0\n",
      "26         0\n",
      "27         0\n",
      "28         0\n",
      "29         0\n",
      "        ... \n",
      "27790    100\n",
      "27791    100\n",
      "27792    100\n",
      "27793    100\n",
      "27794    100\n",
      "27795    100\n",
      "27796    100\n",
      "27797    100\n",
      "27798    100\n",
      "27799    100\n",
      "27800    100\n",
      "27801    100\n",
      "27802    100\n",
      "27803    100\n",
      "27804    100\n",
      "27805    100\n",
      "27806    100\n",
      "27807    100\n",
      "27808    100\n",
      "27809    100\n",
      "27810    100\n",
      "27811    100\n",
      "27812    100\n",
      "27813    100\n",
      "27814    100\n",
      "27815    100\n",
      "27816    100\n",
      "27817    100\n",
      "27818    100\n",
      "27819    100\n",
      "Name: country, Length: 27820, dtype: int64\n",
      "0        1\n",
      "1        1\n",
      "2        0\n",
      "3        1\n",
      "4        1\n",
      "5        0\n",
      "6        0\n",
      "7        0\n",
      "8        1\n",
      "9        0\n",
      "10       0\n",
      "11       1\n",
      "12       0\n",
      "13       1\n",
      "14       1\n",
      "15       1\n",
      "16       1\n",
      "17       0\n",
      "18       0\n",
      "19       0\n",
      "20       1\n",
      "21       0\n",
      "22       0\n",
      "23       1\n",
      "24       1\n",
      "25       1\n",
      "26       1\n",
      "27       1\n",
      "28       1\n",
      "29       0\n",
      "        ..\n",
      "27790    0\n",
      "27791    0\n",
      "27792    1\n",
      "27793    0\n",
      "27794    0\n",
      "27795    0\n",
      "27796    1\n",
      "27797    1\n",
      "27798    0\n",
      "27799    1\n",
      "27800    1\n",
      "27801    1\n",
      "27802    0\n",
      "27803    0\n",
      "27804    0\n",
      "27805    1\n",
      "27806    0\n",
      "27807    0\n",
      "27808    1\n",
      "27809    1\n",
      "27810    0\n",
      "27811    1\n",
      "27812    1\n",
      "27813    1\n",
      "27814    0\n",
      "27815    0\n",
      "27816    0\n",
      "27817    1\n",
      "27818    0\n",
      "27819    0\n",
      "Name: sex, Length: 27820, dtype: int64\n",
      "0        0\n",
      "1        2\n",
      "2        0\n",
      "3        5\n",
      "4        1\n",
      "5        5\n",
      "6        2\n",
      "7        1\n",
      "8        4\n",
      "9        3\n",
      "10       4\n",
      "11       3\n",
      "12       5\n",
      "13       0\n",
      "14       5\n",
      "15       2\n",
      "16       4\n",
      "17       0\n",
      "18       4\n",
      "19       1\n",
      "20       1\n",
      "21       2\n",
      "22       3\n",
      "23       3\n",
      "24       5\n",
      "25       1\n",
      "26       2\n",
      "27       4\n",
      "28       0\n",
      "29       2\n",
      "        ..\n",
      "27790    1\n",
      "27791    2\n",
      "27792    3\n",
      "27793    4\n",
      "27794    5\n",
      "27795    3\n",
      "27796    2\n",
      "27797    1\n",
      "27798    0\n",
      "27799    0\n",
      "27800    4\n",
      "27801    5\n",
      "27802    1\n",
      "27803    2\n",
      "27804    5\n",
      "27805    3\n",
      "27806    4\n",
      "27807    3\n",
      "27808    2\n",
      "27809    1\n",
      "27810    0\n",
      "27811    4\n",
      "27812    0\n",
      "27813    5\n",
      "27814    1\n",
      "27815    2\n",
      "27816    5\n",
      "27817    3\n",
      "27818    3\n",
      "27819    4\n",
      "Name: age, Length: 27820, dtype: int64\n",
      "0        2\n",
      "1        5\n",
      "2        2\n",
      "3        1\n",
      "4        0\n",
      "5        1\n",
      "6        5\n",
      "7        0\n",
      "8        1\n",
      "9        2\n",
      "10       1\n",
      "11       2\n",
      "12       1\n",
      "13       2\n",
      "14       1\n",
      "15       5\n",
      "16       1\n",
      "17       2\n",
      "18       1\n",
      "19       0\n",
      "20       0\n",
      "21       5\n",
      "22       2\n",
      "23       2\n",
      "24       1\n",
      "25       0\n",
      "26       5\n",
      "27       1\n",
      "28       2\n",
      "29       5\n",
      "        ..\n",
      "27790    4\n",
      "27791    2\n",
      "27792    3\n",
      "27793    0\n",
      "27794    5\n",
      "27795    3\n",
      "27796    2\n",
      "27797    4\n",
      "27798    4\n",
      "27799    4\n",
      "27800    0\n",
      "27801    5\n",
      "27802    4\n",
      "27803    2\n",
      "27804    5\n",
      "27805    3\n",
      "27806    0\n",
      "27807    3\n",
      "27808    2\n",
      "27809    4\n",
      "27810    4\n",
      "27811    0\n",
      "27812    4\n",
      "27813    5\n",
      "27814    4\n",
      "27815    2\n",
      "27816    5\n",
      "27817    3\n",
      "27818    3\n",
      "27819    0\n",
      "Name: generation, Length: 27820, dtype: int64\n"
     ]
    }
   ],
   "source": [
    "from sklearn.preprocessing import LabelEncoder\n",
    "le = LabelEncoder()\n",
    "dataset['country']= le.fit_transform(dataset['country'])  \n",
    "from sklearn.preprocessing import LabelEncoder\n",
    "le = LabelEncoder()\n",
    "dataset['sex']= le.fit_transform(dataset['sex']) \n",
    "from sklearn.preprocessing import LabelEncoder\n",
    "le = LabelEncoder()\n",
    "dataset['age']= le.fit_transform(dataset['age']) \n",
    "from sklearn.preprocessing import LabelEncoder\n",
    "le = LabelEncoder()\n",
    "dataset['generation']= le.fit_transform(dataset['generation']) \n",
    "\n",
    "\n",
    "print(dataset['country'])\n",
    "print(dataset['sex'])\n",
    "print(dataset['age'])\n",
    "print(dataset['generation'])\n"
   ]
  },
  {
   "cell_type": "code",
   "execution_count": 18,
   "metadata": {
    "scrolled": true
   },
   "outputs": [
    {
     "name": "stdout",
     "output_type": "stream",
     "text": [
      "[[-1.67762677 -1.68361541  1.         ... -0.8508637  -0.38781514\n",
      "  -0.46597752]\n",
      " [-1.67762677 -1.68361541  1.         ... -0.8508637   1.26982348\n",
      "  -0.46597752]\n",
      " [-1.67762677 -1.68361541 -1.         ... -0.8508637  -0.38781514\n",
      "  -0.46597752]\n",
      " ...\n",
      " [ 1.72697514  1.50451895  1.         ... -0.7707567   0.16473107\n",
      "   0.124238  ]\n",
      " [ 1.72697514  1.50451895 -1.         ... -0.7707567   0.16473107\n",
      "   0.124238  ]\n",
      " [ 1.72697514  1.50451895 -1.         ... -0.7707567  -1.49290756\n",
      "   0.124238  ]]\n"
     ]
    }
   ],
   "source": [
    "from sklearn.preprocessing import StandardScaler\n",
    "scaler = StandardScaler()\n",
    "print(scaler.fit_transform(dataset))"
   ]
  },
  {
   "cell_type": "code",
   "execution_count": 19,
   "metadata": {},
   "outputs": [
    {
     "data": {
      "text/plain": [
       "pyspark.sql.dataframe.DataFrame"
      ]
     },
     "execution_count": 19,
     "metadata": {},
     "output_type": "execute_result"
    }
   ],
   "source": [
    "import findspark\n",
    "findspark.init('/home/ubuntu/spark-2.1.1-bin-hadoop2.7')\n",
    "import pyspark\n",
    "from pyspark.sql import SparkSession\n",
    "\n",
    "\n",
    "spark = SparkSession.builder.appName('pandasToSparkDF').getOrCreate()\n",
    "from pyspark.sql.types import *\n",
    "dataset = spark.createDataFrame(dataset)\n",
    "\n",
    "type(dataset)"
   ]
  },
  {
   "cell_type": "code",
   "execution_count": 20,
   "metadata": {},
   "outputs": [
    {
     "name": "stdout",
     "output_type": "stream",
     "text": [
      "root\n",
      " |-- country: long (nullable = true)\n",
      " |-- year: long (nullable = true)\n",
      " |-- sex: long (nullable = true)\n",
      " |-- age: long (nullable = true)\n",
      " |-- population: long (nullable = true)\n",
      " |-- suicides/100k pop: double (nullable = true)\n",
      " |-- HDI for year: double (nullable = true)\n",
      " |--  gdp_for_year ($) : double (nullable = true)\n",
      " |-- gdp_per_capita ($): long (nullable = true)\n",
      " |-- generation: long (nullable = true)\n",
      " |-- population of country: double (nullable = true)\n",
      " |-- feature: vector (nullable = true)\n",
      "\n",
      "+-------------------------------------------------------------------------------------------+-----------------+\n",
      "|feature                                                                                    |suicides/100k pop|\n",
      "+-------------------------------------------------------------------------------------------+-----------------+\n",
      "|[1987.0,1.0,0.0,312900.0,0.7766011477761785,2.156624896E9,796.0,0.0,2709327.7587939696,2.0]|6.71             |\n",
      "|[1987.0,1.0,2.0,308000.0,0.7766011477761785,2.156624896E9,796.0,0.0,2709327.7587939696,5.0]|5.19             |\n",
      "|[1987.0,0.0,0.0,289700.0,0.7766011477761785,2.156624896E9,796.0,0.0,2709327.7587939696,2.0]|4.83             |\n",
      "|[1987.0,1.0,5.0,21800.0,0.7766011477761785,2.156624896E9,796.0,0.0,2709327.7587939696,1.0] |4.59             |\n",
      "|[1987.0,1.0,1.0,274300.0,0.7766011477761785,2.156624896E9,796.0,0.0,2709327.7587939696,0.0]|3.28             |\n",
      "|[1987.0,0.0,5.0,35600.0,0.7766011477761785,2.156624896E9,796.0,0.0,2709327.7587939696,1.0] |2.81             |\n",
      "|[1987.0,0.0,2.0,278800.0,0.7766011477761785,2.156624896E9,796.0,0.0,2709327.7587939696,5.0]|2.15             |\n",
      "|[1987.0,0.0,1.0,257200.0,0.7766011477761785,2.156624896E9,796.0,0.0,2709327.7587939696,0.0]|1.56             |\n",
      "|[1987.0,1.0,4.0,137500.0,0.7766011477761785,2.156624896E9,796.0,0.0,2709327.7587939696,1.0]|0.73             |\n",
      "|[1987.0,0.0,3.0,311000.0,0.7766011477761785,2.156624896E9,796.0,0.0,2709327.7587939696,2.0]|0.0              |\n",
      "+-------------------------------------------------------------------------------------------+-----------------+\n",
      "only showing top 10 rows\n",
      "\n"
     ]
    }
   ],
   "source": [
    "\n",
    "from pyspark.sql import SparkSession\n",
    "spark = SparkSession.builder.appName('tree_methods_doc').getOrCreate()\n",
    "\n",
    "\n",
    "from pyspark.ml.feature import VectorAssembler\n",
    "featureArray = ['year', 'sex', 'age','population','HDI for year',\n",
    " ' gdp_for_year ($) ','gdp_per_capita ($)','country','population of country','generation']\n",
    "df_assembler = VectorAssembler(inputCols=featureArray, outputCol=\"feature\")\n",
    "\n",
    "df = df_assembler.transform(dataset)\n",
    "df.printSchema()\n",
    "\n",
    "df.select(['feature','suicides/100k pop']).show(10,False)"
   ]
  },
  {
   "cell_type": "code",
   "execution_count": 21,
   "metadata": {},
   "outputs": [],
   "source": [
    "from pyspark.ml.regression import RandomForestRegressor\n",
    "rf = RandomForestRegressor(labelCol=\"suicides/100k pop\", featuresCol='feature', numTrees=20)"
   ]
  },
  {
   "cell_type": "code",
   "execution_count": 22,
   "metadata": {},
   "outputs": [],
   "source": [
    "model_df= rf.fit(df)\n",
    "\n"
   ]
  },
  {
   "cell_type": "code",
   "execution_count": 23,
   "metadata": {
    "scrolled": true
   },
   "outputs": [
    {
     "data": {
      "image/png": "[encoded data removed]",
      "text/plain": [
       "<Figure size 864x360 with 1 Axes>"
      ]
     },
     "metadata": {},
     "output_type": "display_data"
    },
    {
     "name": "stdout",
     "output_type": "stream",
     "text": [
      "{'generation': 0.0780849949564215, 'population of country': 0.04569729660132662, 'sex': 0.4302993557459326, 'country': 0.027513261010333336, ' gdp_for_year ($) ': 0.03910041587561909, 'population': 0.024155323904226762, 'year': 0.00632705271510361, 'HDI for year': 0.005816163353695813, 'gdp_per_capita ($)': 0.00831296234404036, 'age': 0.3346931734933003}\n"
     ]
    }
   ],
   "source": [
    "import matplotlib as mpl\n",
    "import matplotlib.pyplot as plt\n",
    "import pandas as pd\n",
    "FI = pd.Series(model_df.featureImportances,index=featureArray) # pySpark\n",
    "\n",
    "FI = FI.sort_values(ascending = False)\n",
    "fig = plt.figure(figsize=(12,5))\n",
    "plt.bar(FI.index,FI.values,color=\"blue\")\n",
    "plt.xlabel('feature')\n",
    "plt.ylabel('importances')\n",
    "plt.show()\n",
    "\n",
    "ff=model_df.featureImportances\n",
    "importancesList=[float(col) for col in  ff]\n",
    "colList=featureArray\n",
    "result=dict(zip(colList,importancesList))\n",
    "print(result)"
   ]
  },
  {
   "cell_type": "code",
   "execution_count": 24,
   "metadata": {},
   "outputs": [
    {
     "data": {
      "text/plain": [
       "['country',\n",
       " 'year',\n",
       " 'sex',\n",
       " 'age',\n",
       " 'population',\n",
       " 'suicides/100k pop',\n",
       " ' gdp_for_year ($) ',\n",
       " 'gdp_per_capita ($)',\n",
       " 'generation',\n",
       " 'population of country',\n",
       " 'feature']"
      ]
     },
     "execution_count": 24,
     "metadata": {},
     "output_type": "execute_result"
    }
   ],
   "source": [
    "columns_to_drop = ['HDI for year']\n",
    "df = df.drop(*columns_to_drop)\n",
    "df.columns"
   ]
  },
  {
   "cell_type": "code",
   "execution_count": 25,
   "metadata": {},
   "outputs": [
    {
     "name": "stdout",
     "output_type": "stream",
     "text": [
      "root\n",
      " |-- country: long (nullable = true)\n",
      " |-- year: long (nullable = true)\n",
      " |-- sex: long (nullable = true)\n",
      " |-- age: long (nullable = true)\n",
      " |-- population: long (nullable = true)\n",
      " |-- suicides/100k pop: double (nullable = true)\n",
      " |--  gdp_for_year ($) : double (nullable = true)\n",
      " |-- gdp_per_capita ($): long (nullable = true)\n",
      " |-- generation: long (nullable = true)\n",
      " |-- population of country: double (nullable = true)\n",
      " |-- feature: vector (nullable = true)\n",
      " |-- features: vector (nullable = true)\n",
      "\n",
      "+--------------------------------------------------------------------+-----------------+\n",
      "|features                                                            |suicides/100k pop|\n",
      "+--------------------------------------------------------------------+-----------------+\n",
      "|[1987.0,1.0,0.0,312900.0,2.156624896E9,796.0,0.0,2709327.7587939696]|6.71             |\n",
      "|[1987.0,1.0,2.0,308000.0,2.156624896E9,796.0,0.0,2709327.7587939696]|5.19             |\n",
      "|[1987.0,0.0,0.0,289700.0,2.156624896E9,796.0,0.0,2709327.7587939696]|4.83             |\n",
      "|[1987.0,1.0,5.0,21800.0,2.156624896E9,796.0,0.0,2709327.7587939696] |4.59             |\n",
      "|[1987.0,1.0,1.0,274300.0,2.156624896E9,796.0,0.0,2709327.7587939696]|3.28             |\n",
      "|[1987.0,0.0,5.0,35600.0,2.156624896E9,796.0,0.0,2709327.7587939696] |2.81             |\n",
      "|[1987.0,0.0,2.0,278800.0,2.156624896E9,796.0,0.0,2709327.7587939696]|2.15             |\n",
      "|[1987.0,0.0,1.0,257200.0,2.156624896E9,796.0,0.0,2709327.7587939696]|1.56             |\n",
      "|[1987.0,1.0,4.0,137500.0,2.156624896E9,796.0,0.0,2709327.7587939696]|0.73             |\n",
      "|[1987.0,0.0,3.0,311000.0,2.156624896E9,796.0,0.0,2709327.7587939696]|0.0              |\n",
      "+--------------------------------------------------------------------+-----------------+\n",
      "only showing top 10 rows\n",
      "\n"
     ]
    }
   ],
   "source": [
    "from pyspark.ml.feature import VectorAssembler\n",
    "featureArray = ['year', 'sex', 'age','population',' gdp_for_year ($) ',\n",
    "                'gdp_per_capita ($)','country','population of country']\n",
    "df_assembler = VectorAssembler(inputCols=featureArray, outputCol=\"features\")\n",
    "\n",
    "df = df_assembler.transform(df)\n",
    "df.printSchema()\n",
    "\n",
    "df.select(['features','suicides/100k pop']).show(10,False)\n",
    "\n"
   ]
  },
  {
   "cell_type": "code",
   "execution_count": 26,
   "metadata": {},
   "outputs": [
    {
     "name": "stdout",
     "output_type": "stream",
     "text": [
      "+-------+------------------+\n",
      "|summary| suicides/100k pop|\n",
      "+-------+------------------+\n",
      "|  count|             22210|\n",
      "|   mean|12.683576316974264|\n",
      "| stddev|18.787067336001375|\n",
      "|    min|               0.0|\n",
      "|    max|            224.97|\n",
      "+-------+------------------+\n",
      "\n",
      "+-------+------------------+\n",
      "|summary| suicides/100k pop|\n",
      "+-------+------------------+\n",
      "|  count|              5610|\n",
      "|   mean|13.340748663101564|\n",
      "| stddev|19.629866443701083|\n",
      "|    min|               0.0|\n",
      "|    max|            177.57|\n",
      "+-------+------------------+\n",
      "\n"
     ]
    }
   ],
   "source": [
    "model_df=df.select(['features','suicides/100k pop'])                                         \n",
    "train_df,test_df=model_df.randomSplit([0.80,0.20])                                  \n",
    "\n",
    "train_df.describe().show()\n",
    "test_df.describe().show()"
   ]
  },
  {
   "cell_type": "code",
   "execution_count": 27,
   "metadata": {},
   "outputs": [],
   "source": [
    "from pyspark.ml.regression import RandomForestRegressor\n",
    "rf = RandomForestRegressor(labelCol=\"suicides/100k pop\", featuresCol='features', numTrees=20)\n",
    "\n",
    "model_train_rf= rf.fit(train_df)\n",
    "model_test_rf = rf.fit(test_df)\n",
    "prediction_train_rf=model_train_rf.transform(train_df)\n",
    "prediction_test_rf=model_test_rf.transform(test_df)\n"
   ]
  },
  {
   "cell_type": "code",
   "execution_count": 28,
   "metadata": {},
   "outputs": [
    {
     "name": "stdout",
     "output_type": "stream",
     "text": [
      "Root Mean Squared Error (RMSE) on train data = 14.4952\n",
      "Root Mean Squared Error (RMSE) on test data = 14.6602\n"
     ]
    }
   ],
   "source": [
    "from pyspark.ml.evaluation import RegressionEvaluator\n",
    "evaluator = RegressionEvaluator(labelCol=\"suicides/100k pop\", predictionCol=\"prediction\", metricName=\"rmse\")\n",
    "rmse = evaluator.evaluate(prediction_train_rf)\n",
    "print(\"Root Mean Squared Error (RMSE) on train data = %g\" % rmse)\n",
    "rmse1 = evaluator.evaluate(prediction_test_rf)\n",
    "print(\"Root Mean Squared Error (RMSE) on test data = %g\" % rmse1)"
   ]
  },
  {
   "cell_type": "code",
   "execution_count": 29,
   "metadata": {},
   "outputs": [
    {
     "data": {
      "image/png": "[encoded data removed]",
      "text/plain": [
       "<Figure size 864x360 with 1 Axes>"
      ]
     },
     "metadata": {},
     "output_type": "display_data"
    },
    {
     "name": "stdout",
     "output_type": "stream",
     "text": [
      "{'sex': 0.4773955650313092, 'country': 0.03407998788430789, ' gdp_for_year ($) ': 0.04879691380746084, 'population': 0.04102604703365639, 'year': 0.01253311553873955, 'population of country': 0.05999678400507384, 'gdp_per_capita ($)': 0.008108898635043446, 'age': 0.31806268806440885}\n"
     ]
    }
   ],
   "source": [
    "import matplotlib as mpl\n",
    "import matplotlib.pyplot as plt\n",
    "\n",
    "FI = pd.Series(model_train_rf.featureImportances,index=featureArray) # pySpark\n",
    "\n",
    "FI = FI.sort_values(ascending = False)\n",
    "fig = plt.figure(figsize=(12,5))\n",
    "plt.bar(FI.index,FI.values,color=\"blue\")\n",
    "plt.xlabel('features')\n",
    "plt.ylabel('importances')\n",
    "plt.show()\n",
    "\n",
    "ff=model_train_rf.featureImportances\n",
    "importancesList=[float(col) for col in  ff]\n",
    "colList=featureArray\n",
    "result=dict(zip(colList,importancesList))\n",
    "print(result)"
   ]
  },
  {
   "cell_type": "code",
   "execution_count": null,
   "metadata": {},
   "outputs": [],
   "source": []
  }
 ],
 "metadata": {
  "kernelspec": {
   "display_name": "Python 3",
   "language": "python",
   "name": "python3"
  },
  "language_info": {
   "codemirror_mode": {
    "name": "ipython",
    "version": 3
   },
   "file_extension": ".py",
   "mimetype": "text/x-python",
   "name": "python",
   "nbconvert_exporter": "python",
   "pygments_lexer": "ipython3",
   "version": "3.5.2"
  }
 },
 "nbformat": 4,
 "nbformat_minor": 2
}
